{
 "cells": [
  {
   "cell_type": "code",
   "id": "initial_id",
   "metadata": {
    "collapsed": true,
    "ExecuteTime": {
     "end_time": "2025-01-30T22:04:46.927268Z",
     "start_time": "2025-01-30T22:04:42.610845Z"
    }
   },
   "source": [
    "# Imports\n",
    "import torch\n",
    "import torch.nn.functional as F\n",
    "import matplotlib.pyplot as plt\n",
    "import random\n",
    "import time\n",
    "\n",
    "NAMES_MALE = \"../data/имена_српска_мушка.txt\"\n",
    "NAMES_FEMALE = \"../data/имена_српска_женска.txt\"\n",
    "\n",
    "RESULTS_MALE = \"../results/имена_српска_мушка_makemore_2003.txt\"\n",
    "RESULTS_FEMALE = \"../results/имена_српска_женска_makemore_2003.txt\""
   ],
   "outputs": [],
   "execution_count": 2
  },
  {
   "metadata": {
    "ExecuteTime": {
     "end_time": "2025-01-30T22:13:39.597534Z",
     "start_time": "2025-01-30T22:13:39.594023Z"
    }
   },
   "cell_type": "code",
   "source": [
    "# CONFIG VARIABLES\n",
    "NAMES_FILE = NAMES_FEMALE\n",
    "block_size = 3\n",
    "embedding_dimensions = 10\n",
    "neurons = 300\n",
    "batch_size = 64\n",
    "lr = 0.1"
   ],
   "id": "be8c78cb3d6881fc",
   "outputs": [],
   "execution_count": 18
  },
  {
   "metadata": {
    "ExecuteTime": {
     "end_time": "2025-01-30T22:13:40.845734Z",
     "start_time": "2025-01-30T22:13:40.828969Z"
    }
   },
   "cell_type": "code",
   "source": [
    "with open(NAMES_FILE, 'r', encoding='utf-8') as f:\n",
    "    words = f.read().splitlines()\n",
    "# Convert the first letter of each word to lowercase\n",
    "words = [word[0].lower() + word[1:] if word else word for word in words]\n",
    "chars = sorted(list(set(''.join(words))))\n",
    "stoi = {s: i + 1 for i, s in enumerate(chars)}\n",
    "stoi['.'] = 0\n",
    "itos = {i: s for s, i in stoi.items()}\n",
    "print(stoi)\n",
    "words[:5], len(words)\n"
   ],
   "id": "9809872fabf48146",
   "outputs": [
    {
     "name": "stdout",
     "output_type": "stream",
     "text": [
      "{'а': 1, 'б': 2, 'в': 3, 'г': 4, 'д': 5, 'е': 6, 'ж': 7, 'з': 8, 'и': 9, 'к': 10, 'л': 11, 'м': 12, 'н': 13, 'о': 14, 'п': 15, 'р': 16, 'с': 17, 'т': 18, 'у': 19, 'х': 20, 'ц': 21, 'ч': 22, 'ш': 23, 'ђ': 24, 'ј': 25, 'љ': 26, 'њ': 27, 'ћ': 28, '.': 0}\n"
     ]
    },
    {
     "data": {
      "text/plain": [
       "(['агнежина', 'агнија', 'агница', 'бајка', 'бајна'], 2502)"
      ]
     },
     "execution_count": 19,
     "metadata": {},
     "output_type": "execute_result"
    }
   ],
   "execution_count": 19
  },
  {
   "metadata": {},
   "cell_type": "markdown",
   "source": [
    "## Building the Dataset:\n",
    "\n",
    "```X - input of the Neural Network, cotext window of the size: block_size,  Context that is used as an input, if block_size 3, input will be 3 words and guess the third one```\n",
    "\n",
    "```Y - Next word is the label (it is what model is needs to guess)```"
   ],
   "id": "fae7049e9f1304b7"
  },
  {
   "metadata": {
    "ExecuteTime": {
     "end_time": "2025-01-30T22:13:43.426629Z",
     "start_time": "2025-01-30T22:13:43.389259Z"
    }
   },
   "cell_type": "code",
   "source": [
    "# Building the Dataset\n",
    "def build_dataset(words, block_size, stoi):\n",
    "    X, Y = [], []\n",
    "    for w in words:\n",
    "        context = [0] * block_size\n",
    "        for ch in w + '.':\n",
    "            ix = stoi[ch]\n",
    "            X.append(context) # Context that is used as an input, if block_size 3, input will be 3 words and guess the third one\n",
    "            Y.append(ix)  # Next word is the label (it is what model is needs to guess)\n",
    "            context = context[1:] + [ix]  # crop and append\n",
    "    X = torch.tensor(X)\n",
    "    Y = torch.tensor(Y)\n",
    "    return X, Y\n",
    "# Split the data\n",
    "random.seed(42)\n",
    "random.shuffle(words)\n",
    "n1 = int(0.8 * len(words))\n",
    "n2 = int(0.9 * len(words))\n",
    "\n",
    "Xtr, Ytr = build_dataset(words[:n1], block_size, stoi=stoi)\n",
    "Xdev, Ydev = build_dataset(words[n1:n2], block_size, stoi=stoi)\n",
    "Xte, Yte = build_dataset(words[n2:], block_size, stoi=stoi)\n",
    "\n",
    "len(Xtr), len(Ytr), len(Xdev), len(Ydev), len(Xte), len(Yte)"
   ],
   "id": "80d94a72888836d2",
   "outputs": [
    {
     "data": {
      "text/plain": [
       "(16528, 16528, 2042, 2042, 2054, 2054)"
      ]
     },
     "execution_count": 20,
     "metadata": {},
     "output_type": "execute_result"
    }
   ],
   "execution_count": 20
  },
  {
   "metadata": {},
   "cell_type": "markdown",
   "source": "## Neural Network",
   "id": "70e533ba724b312b"
  },
  {
   "metadata": {
    "ExecuteTime": {
     "end_time": "2025-01-30T22:13:44.653736Z",
     "start_time": "2025-01-30T22:13:44.645339Z"
    }
   },
   "cell_type": "code",
   "source": [
    "num_of_letters = len(stoi.keys()) # Number of tokens (in this case number of letters in Azbuka(30) + Special Char '.' = total max (31)\n",
    "scale = (5/3) / ((block_size * embedding_dimensions) ** 0.5)\n",
    "# INIT PARAMS\n",
    "C = torch.randn((num_of_letters, embedding_dimensions))\n",
    "W1 = torch.randn((block_size * embedding_dimensions, neurons)) * scale\n",
    "b1 = torch.randn(neurons) * 0.01\n",
    "W2 = torch.randn((neurons, num_of_letters)) * 0.01\n",
    "b2 = torch.randn(num_of_letters) * 0.0\n",
    "# BatchNorm parameters\n",
    "bngain = torch.ones((1, neurons))\n",
    "bnbias = torch.zeros((1, neurons))\n",
    "bnmean_running = torch.zeros((1, neurons))\n",
    "bnstd_running = torch.ones((1, neurons))\n",
    "\n",
    "parameters = [C, W1, W2, b2, bngain, bnbias]\n",
    "for p in parameters:\n",
    "    p.requires_grad = True\n",
    "\n",
    "print(f\"Number of tokens: {num_of_letters}\")\n"
   ],
   "id": "f2842eb2a5798bfb",
   "outputs": [
    {
     "name": "stdout",
     "output_type": "stream",
     "text": [
      "Number of tokens: 29\n"
     ]
    }
   ],
   "execution_count": 21
  },
  {
   "metadata": {
    "ExecuteTime": {
     "end_time": "2025-01-30T22:14:59.347190Z",
     "start_time": "2025-01-30T22:13:45.643134Z"
    }
   },
   "cell_type": "code",
   "source": [
    "max_steps = 40000\n",
    "losses = []\n",
    "lr = 0.1\n",
    "for i in range(max_steps):\n",
    "    # Random MiniBatch\n",
    "    ix = torch.randint(0, Xtr.shape[0], (batch_size,))\n",
    "\n",
    "    # Forward Pass\n",
    "    emb = C[Xtr[ix]] # (N, block_size, n_embd)\n",
    "    embcat = emb.view(emb.shape[0], -1) # concat into (N, block_size * n_embd)\n",
    "    hpreact = embcat @ W1 # + b1\n",
    "    # BatchNorm layer\n",
    "    # -------------------------------------------------------------\n",
    "    bnmeani = hpreact.mean(0, keepdim=True)\n",
    "    bnstdi = hpreact.std(0, keepdim=True)\n",
    "    hpreact = bngain * (hpreact - bnmeani) / bnstdi + bnbias\n",
    "    with torch.no_grad():\n",
    "        bnmean_running = 0.999 * bnmean_running + 0.001 * bnmeani\n",
    "        bnstd_running = 0.999 * bnstd_running + 0.001 * bnstdi\n",
    "      # -------------------------------------------------------------\n",
    "      # Non-linearity\n",
    "    h = torch.tanh(hpreact) # (N, n_hidden)\n",
    "    logits = h @ W2 + b2  # (N, 29)\n",
    "    loss = F.cross_entropy(logits, Ytr[ix])\n",
    "\n",
    "    # Backwards Pass\n",
    "    for p in parameters:\n",
    "        p.grad = None\n",
    "    loss.backward()\n",
    "\n",
    "    # Update\n",
    "    if i == 25000 or i == 35000:\n",
    "        lr = lr * 0.1\n",
    "\n",
    "    for p in parameters:\n",
    "        p.data += -lr * p.grad\n",
    "\n",
    "    if i % 1000 == 0:\n",
    "        print(f'{i}/{max_steps}: {loss.item():.4f}')\n",
    "    losses.append(loss.log10().item())\n",
    "\n",
    "print(loss.item())"
   ],
   "id": "e12aaa4da0fcdf28",
   "outputs": [
    {
     "name": "stdout",
     "output_type": "stream",
     "text": [
      "0/40000: 3.3596\n",
      "1000/40000: 1.6637\n",
      "2000/40000: 1.3532\n",
      "3000/40000: 1.6164\n",
      "4000/40000: 1.5405\n",
      "5000/40000: 1.4600\n",
      "6000/40000: 1.3576\n",
      "7000/40000: 1.3205\n",
      "8000/40000: 1.4614\n",
      "9000/40000: 1.2646\n",
      "10000/40000: 1.2585\n",
      "11000/40000: 1.0676\n",
      "12000/40000: 1.2760\n",
      "13000/40000: 1.2157\n",
      "14000/40000: 1.1497\n",
      "15000/40000: 1.1527\n",
      "16000/40000: 1.9893\n",
      "17000/40000: 1.3269\n",
      "18000/40000: 1.4215\n",
      "19000/40000: 1.6135\n",
      "20000/40000: 1.1951\n",
      "21000/40000: 1.2539\n",
      "22000/40000: 1.3053\n",
      "23000/40000: 1.7292\n",
      "24000/40000: 1.2444\n",
      "25000/40000: 0.9698\n",
      "26000/40000: 1.3981\n",
      "27000/40000: 1.2537\n",
      "28000/40000: 1.0215\n",
      "29000/40000: 1.2109\n",
      "30000/40000: 0.9077\n",
      "31000/40000: 1.1281\n",
      "32000/40000: 1.4386\n",
      "33000/40000: 1.1126\n",
      "34000/40000: 1.0284\n",
      "35000/40000: 1.0904\n",
      "36000/40000: 1.2358\n",
      "37000/40000: 1.2681\n",
      "38000/40000: 1.4222\n",
      "39000/40000: 1.2065\n",
      "1.458250880241394\n"
     ]
    }
   ],
   "execution_count": 22
  },
  {
   "metadata": {
    "ExecuteTime": {
     "end_time": "2025-01-30T22:14:59.604044Z",
     "start_time": "2025-01-30T22:14:59.386429Z"
    }
   },
   "cell_type": "code",
   "source": [
    "plt.figure(figsize=(20, 10))\n",
    "plt.imshow(h.abs() > 0.99, cmap='gray', interpolation='nearest')"
   ],
   "id": "2ae804f5f4680a6b",
   "outputs": [
    {
     "data": {
      "text/plain": [
       "<matplotlib.image.AxesImage at 0x22319f37250>"
      ]
     },
     "execution_count": 23,
     "metadata": {},
     "output_type": "execute_result"
    },
    {
     "data": {
      "text/plain": [
       "<Figure size 2000x1000 with 1 Axes>"
      ],
      "image/png": "[encoded data removed]"
     },
     "metadata": {},
     "output_type": "display_data"
    }
   ],
   "execution_count": 23
  },
  {
   "metadata": {
    "ExecuteTime": {
     "end_time": "2025-01-30T22:14:59.775419Z",
     "start_time": "2025-01-30T22:14:59.608559Z"
    }
   },
   "cell_type": "code",
   "source": "plt.hist(h.view(-1).tolist(), 100);",
   "id": "f898672af4ed5092",
   "outputs": [
    {
     "data": {
      "text/plain": [
       "<Figure size 640x480 with 1 Axes>"
      ],
      "image/png": "[encoded data removed]"
     },
     "metadata": {},
     "output_type": "display_data"
    }
   ],
   "execution_count": 24
  },
  {
   "metadata": {
    "ExecuteTime": {
     "end_time": "2025-01-30T22:14:59.988621Z",
     "start_time": "2025-01-30T22:14:59.803317Z"
    }
   },
   "cell_type": "code",
   "source": "plt.hist(hpreact.view(-1).tolist(), 100);",
   "id": "ccd4139a631428e9",
   "outputs": [
    {
     "data": {
      "text/plain": [
       "<Figure size 640x480 with 1 Axes>"
      ],
      "image/png": "[encoded data removed]"
     },
     "metadata": {},
     "output_type": "display_data"
    }
   ],
   "execution_count": 25
  },
  {
   "metadata": {
    "ExecuteTime": {
     "end_time": "2025-01-30T22:15:00.273366Z",
     "start_time": "2025-01-30T22:15:00.017386Z"
    }
   },
   "cell_type": "code",
   "source": "plt.plot(losses)",
   "id": "b04be72da46a53ae",
   "outputs": [
    {
     "data": {
      "text/plain": [
       "[<matplotlib.lines.Line2D at 0x2231966c110>]"
      ]
     },
     "execution_count": 26,
     "metadata": {},
     "output_type": "execute_result"
    },
    {
     "data": {
      "text/plain": [
       "<Figure size 640x480 with 1 Axes>"
      ],
      "image/png": "[encoded data removed]"
     },
     "metadata": {},
     "output_type": "display_data"
    }
   ],
   "execution_count": 26
  },
  {
   "metadata": {
    "ExecuteTime": {
     "end_time": "2025-01-30T22:15:00.329674Z",
     "start_time": "2025-01-30T22:15:00.304503Z"
    }
   },
   "cell_type": "code",
   "source": [
    "@torch.no_grad() # this decorator disables gradient tracking\n",
    "def split_loss(split):\n",
    "  x,y = {\n",
    "    'train': (Xtr, Ytr),\n",
    "    'val': (Xdev, Ydev),\n",
    "    'test': (Xte, Yte),\n",
    "  }[split]\n",
    "  emb = C[x] # (N, block_size, n_embd)\n",
    "  embcat = emb.view(emb.shape[0], -1) # concat into (N, block_size * n_embd)\n",
    "  hpreact = embcat @ W1 # + b1\n",
    "  #hpreact = bngain * (hpreact - hpreact.mean(0, keepdim=True)) / hpreact.std(0, keepdim=True) + bnbias\n",
    "  hpreact = bngain * (hpreact - bnmean_running) / bnstd_running + bnbias\n",
    "  h = torch.tanh(hpreact) # (N, n_hidden)\n",
    "  logits = h @ W2 + b2 # (N, vocab_size)\n",
    "  loss = F.cross_entropy(logits, y)\n",
    "  print(split, loss.item())\n",
    "\n",
    "split_loss('train')\n",
    "split_loss('val')"
   ],
   "id": "d476cf886dba5d64",
   "outputs": [
    {
     "name": "stdout",
     "output_type": "stream",
     "text": [
      "train 1.144739031791687\n",
      "val 1.3970001935958862\n"
     ]
    }
   ],
   "execution_count": 27
  },
  {
   "metadata": {
    "ExecuteTime": {
     "end_time": "2025-01-30T22:26:23.090278Z",
     "start_time": "2025-01-30T22:26:23.064131Z"
    }
   },
   "cell_type": "code",
   "source": [
    "num_of_names = 5\n",
    "# Sample from the model\n",
    "random_seed = int(time.time() * 1000) % (2**32)  # Ограничавамо на 32-битни опсег\n",
    "g = torch.Generator().manual_seed(random_seed)\n",
    "\n",
    "for _ in range(num_of_names):\n",
    "    out = []\n",
    "    context = [0] * block_size  # Initialize with all ...\n",
    "    while True:\n",
    "        emb = C[torch.tensor([context])]  # (1, block_size, d)\n",
    "        embcat = emb.view(emb.shape[0], -1) # concat into (N, block_size * n_embd)\n",
    "        hpreact = embcat @ W1 # + b1\n",
    "        #hpreact = bngain * (hpreact - hpreact.mean(0, keepdim=True)) / hpreact.std(0, keepdim=True) + bnbias\n",
    "        hpreact = bngain * (hpreact - bnmean_running) / bnstd_running + bnbias\n",
    "        h = torch.tanh(hpreact)\n",
    "        logits = h @ W2 + b2\n",
    "        probs = F.softmax(logits, dim=1)\n",
    "        ix = torch.multinomial(probs, num_samples=1, generator=g).item()\n",
    "        context = context[1:] + [ix]\n",
    "        if ix == 0:\n",
    "            break\n",
    "        out.append(ix)\n",
    "\n",
    "    # Rekonstruiši ime i promeni prvo slovo u veliko\n",
    "    name = ''.join(itos[i] for i in out)\n",
    "    name = name.capitalize()  # Pretvori prvo slovo u veliko\n",
    "\n",
    "    print(name)"
   ],
   "id": "cbb7445ef94daf6a",
   "outputs": [
    {
     "name": "stdout",
     "output_type": "stream",
     "text": [
      "Србислава\n",
      "Дабимиланимирна\n",
      "Нашка\n",
      "Стојслава\n",
      "Брана\n"
     ]
    }
   ],
   "execution_count": 42
  },
  {
   "metadata": {
    "ExecuteTime": {
     "end_time": "2025-01-30T22:17:14.866447Z",
     "start_time": "2025-01-30T22:17:14.862938Z"
    }
   },
   "cell_type": "code",
   "source": "",
   "id": "9774c467d1b77ba3",
   "outputs": [],
   "execution_count": null
  },
  {
   "metadata": {},
   "cell_type": "code",
   "outputs": [],
   "execution_count": null,
   "source": "",
   "id": "866dfadf97f6ae0f"
  }
 ],
 "metadata": {
  "kernelspec": {
   "display_name": "Python 3",
   "language": "python",
   "name": "python3"
  },
  "language_info": {
   "codemirror_mode": {
    "name": "ipython",
    "version": 2
   },
   "file_extension": ".py",
   "mimetype": "text/x-python",
   "name": "python",
   "nbconvert_exporter": "python",
   "pygments_lexer": "ipython2",
   "version": "2.7.6"
  }
 },
 "nbformat": 4,
 "nbformat_minor": 5
}
