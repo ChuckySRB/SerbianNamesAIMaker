{
 "cells": [
  {
   "cell_type": "code",
   "id": "initial_id",
   "metadata": {
    "collapsed": true,
    "ExecuteTime": {
     "end_time": "2025-01-22T07:48:16.280490Z",
     "start_time": "2025-01-22T07:48:16.276492Z"
    }
   },
   "source": [
    "# Imports\n",
    "import torch\n",
    "import torch.nn.functional as F\n",
    "import matplotlib.pyplot as plt\n",
    "import random\n",
    "import time\n",
    "\n",
    "NAMES_MALE = \"../data/имена_српска_мушка.txt\"\n",
    "NAMES_FEMALE = \"../data/имена_српска_женска.txt\"\n",
    "\n",
    "RESULTS_MALE = \"../results/имена_српска_мушка_makemore_2003.txt\"\n",
    "RESULTS_FEMALE = \"../results/имена_српска_женска_makemore_2003.txt\""
   ],
   "outputs": [],
   "execution_count": 5
  },
  {
   "metadata": {
    "ExecuteTime": {
     "end_time": "2025-01-22T07:54:23.545288Z",
     "start_time": "2025-01-22T07:54:23.542251Z"
    }
   },
   "cell_type": "code",
   "source": [
    "# CONFIG VARIABLES\n",
    "NAMES_FILE = NAMES_MALE\n",
    "block_size = 5\n",
    "embedding_dimensions = 10\n",
    "neurons = 500\n",
    "batch_size = 64\n",
    "lr = 0.1"
   ],
   "id": "be8c78cb3d6881fc",
   "outputs": [],
   "execution_count": 20
  },
  {
   "metadata": {
    "ExecuteTime": {
     "end_time": "2025-01-22T07:54:26.545925Z",
     "start_time": "2025-01-22T07:54:26.537745Z"
    }
   },
   "cell_type": "code",
   "source": [
    "with open(NAMES_FILE, 'r', encoding='utf-8') as f:\n",
    "    words = f.read().splitlines()\n",
    "# Convert the first letter of each word to lowercase\n",
    "words = [word[0].lower() + word[1:] if word else word for word in words]\n",
    "chars = sorted(list(set(''.join(words))))\n",
    "stoi = {s: i + 1 for i, s in enumerate(chars)}\n",
    "stoi['.'] = 0\n",
    "itos = {i: s for s, i in stoi.items()}\n",
    "print(stoi)\n",
    "words[:5], len(words)\n"
   ],
   "id": "9809872fabf48146",
   "outputs": [
    {
     "name": "stdout",
     "output_type": "stream",
     "text": [
      "{'а': 1, 'б': 2, 'в': 3, 'г': 4, 'д': 5, 'е': 6, 'ж': 7, 'з': 8, 'и': 9, 'к': 10, 'л': 11, 'м': 12, 'н': 13, 'о': 14, 'п': 15, 'р': 16, 'с': 17, 'т': 18, 'у': 19, 'х': 20, 'ц': 21, 'ч': 22, 'ш': 23, 'ђ': 24, 'ј': 25, 'љ': 26, 'њ': 27, 'ћ': 28, '.': 0}\n"
     ]
    },
    {
     "data": {
      "text/plain": [
       "(['бадач', 'баја', 'бајо', 'бајан', 'бајаш'], 3646)"
      ]
     },
     "execution_count": 21,
     "metadata": {},
     "output_type": "execute_result"
    }
   ],
   "execution_count": 21
  },
  {
   "metadata": {},
   "cell_type": "markdown",
   "source": [
    "## Building the Dataset:\n",
    "\n",
    "```X - input of the Neural Network, cotext window of the size: block_size,  Context that is used as an input, if block_size 3, input will be 3 words and guess the third one```\n",
    "\n",
    "```Y - Next word is the label (it is what model is needs to guess)```"
   ],
   "id": "fae7049e9f1304b7"
  },
  {
   "metadata": {
    "ExecuteTime": {
     "end_time": "2025-01-22T07:54:29.030408Z",
     "start_time": "2025-01-22T07:54:28.998136Z"
    }
   },
   "cell_type": "code",
   "source": [
    "# Building the Dataset\n",
    "def build_dataset(words, block_size, stoi):\n",
    "    X, Y = [], []\n",
    "    for w in words:\n",
    "        context = [0] * block_size\n",
    "        for ch in w + '.':\n",
    "            ix = stoi[ch]\n",
    "            X.append(context) # Context that is used as an input, if block_size 3, input will be 3 words and guess the third one\n",
    "            Y.append(ix)  # Next word is the label (it is what model is needs to guess)\n",
    "            context = context[1:] + [ix]  # crop and append\n",
    "    X = torch.tensor(X)\n",
    "    Y = torch.tensor(Y)\n",
    "    return X, Y\n",
    "# Split the data\n",
    "random.seed(42)\n",
    "random.shuffle(words)\n",
    "n1 = int(0.8 * len(words))\n",
    "n2 = int(0.9 * len(words))\n",
    "\n",
    "Xtr, Ytr = build_dataset(words[:n1], block_size, stoi=stoi)\n",
    "Xdev, Ydev = build_dataset(words[n1:n2], block_size, stoi=stoi)\n",
    "Xte, Yte = build_dataset(words[n2:], block_size, stoi=stoi)\n",
    "\n",
    "len(Xtr), len(Ytr), len(Xdev), len(Ydev), len(Xte), len(Yte)"
   ],
   "id": "80d94a72888836d2",
   "outputs": [
    {
     "data": {
      "text/plain": [
       "(21777, 21777, 2705, 2705, 2721, 2721)"
      ]
     },
     "execution_count": 22,
     "metadata": {},
     "output_type": "execute_result"
    }
   ],
   "execution_count": 22
  },
  {
   "metadata": {},
   "cell_type": "markdown",
   "source": "## Neural Network",
   "id": "70e533ba724b312b"
  },
  {
   "metadata": {
    "ExecuteTime": {
     "end_time": "2025-01-22T09:35:59.220019Z",
     "start_time": "2025-01-22T09:35:59.208694Z"
    }
   },
   "cell_type": "code",
   "source": [
    "num_of_letters = len(stoi.keys()) # Number of tokens (in this case number of letters in Azbuka(30) + Special Char '.' = total max (31)\n",
    "scale = (5/3) / ((block_size * embedding_dimensions) ** 0.5)\n",
    "# INIT PARAMS\n",
    "C = torch.randn((num_of_letters, embedding_dimensions))\n",
    "W1 = torch.randn((block_size * embedding_dimensions, neurons)) * scale\n",
    "b1 = torch.randn(neurons) * 0.01\n",
    "W2 = torch.randn((neurons, num_of_letters)) * 0.01\n",
    "b2 = torch.randn(num_of_letters) * 0.0\n",
    "# BatchNorm parameters\n",
    "bngain = torch.ones((1, neurons))\n",
    "bnbias = torch.zeros((1, neurons))\n",
    "bnmean_running = torch.zeros((1, neurons))\n",
    "bnstd_running = torch.ones((1, neurons))\n",
    "\n",
    "parameters = [C, W1, W2, b2, bngain, bnbias]\n",
    "for p in parameters:\n",
    "    p.requires_grad = True\n",
    "\n",
    "print(f\"Number of tokens: {num_of_letters}\")\n"
   ],
   "id": "f2842eb2a5798bfb",
   "outputs": [
    {
     "name": "stdout",
     "output_type": "stream",
     "text": [
      "Number of tokens: 29\n"
     ]
    }
   ],
   "execution_count": 80
  },
  {
   "metadata": {
    "ExecuteTime": {
     "end_time": "2025-01-22T09:37:36.894709Z",
     "start_time": "2025-01-22T09:36:02.862688Z"
    }
   },
   "cell_type": "code",
   "source": [
    "max_steps = 40000\n",
    "losses = []\n",
    "lr = 0.1\n",
    "for i in range(max_steps):\n",
    "    # Random MiniBatch\n",
    "    ix = torch.randint(0, Xtr.shape[0], (batch_size,))\n",
    "\n",
    "    # Forward Pass\n",
    "    emb = C[Xtr[ix]] # (N, block_size, n_embd)\n",
    "    embcat = emb.view(emb.shape[0], -1) # concat into (N, block_size * n_embd)\n",
    "    hpreact = embcat @ W1 # + b1\n",
    "    # BatchNorm layer\n",
    "    # -------------------------------------------------------------\n",
    "    bnmeani = hpreact.mean(0, keepdim=True)\n",
    "    bnstdi = hpreact.std(0, keepdim=True)\n",
    "    hpreact = bngain * (hpreact - bnmeani) / bnstdi + bnbias\n",
    "    with torch.no_grad():\n",
    "        bnmean_running = 0.999 * bnmean_running + 0.001 * bnmeani\n",
    "        bnstd_running = 0.999 * bnstd_running + 0.001 * bnstdi\n",
    "      # -------------------------------------------------------------\n",
    "      # Non-linearity\n",
    "    h = torch.tanh(hpreact) # (N, n_hidden)\n",
    "    logits = h @ W2 + b2  # (N, 29)\n",
    "    loss = F.cross_entropy(logits, Ytr[ix])\n",
    "\n",
    "    # Backwards Pass\n",
    "    for p in parameters:\n",
    "        p.grad = None\n",
    "    loss.backward()\n",
    "\n",
    "    # Update\n",
    "    if i == 25000 or i == 35000:\n",
    "        lr = lr * 0.1\n",
    "\n",
    "    for p in parameters:\n",
    "        p.data += -lr * p.grad\n",
    "\n",
    "    if i % 1000 == 0:\n",
    "        print(f'{i}/{max_steps}: {loss.item():.4f}')\n",
    "    losses.append(loss.log10().item())\n",
    "\n",
    "print(loss.item())"
   ],
   "id": "e12aaa4da0fcdf28",
   "outputs": [
    {
     "name": "stdout",
     "output_type": "stream",
     "text": [
      "0/50000: 3.3547\n",
      "1000/50000: 1.7174\n",
      "2000/50000: 1.6417\n",
      "3000/50000: 1.7336\n",
      "4000/50000: 1.7056\n",
      "5000/50000: 1.8730\n",
      "6000/50000: 1.5544\n",
      "7000/50000: 1.6637\n",
      "8000/50000: 1.2455\n",
      "9000/50000: 1.4206\n",
      "10000/50000: 1.6962\n",
      "11000/50000: 1.3373\n",
      "12000/50000: 1.4720\n",
      "13000/50000: 1.4254\n",
      "14000/50000: 1.2242\n",
      "15000/50000: 1.5358\n",
      "16000/50000: 1.4026\n",
      "17000/50000: 1.6414\n",
      "18000/50000: 1.2447\n",
      "19000/50000: 1.2816\n",
      "20000/50000: 1.4824\n",
      "21000/50000: 1.3173\n",
      "22000/50000: 1.2453\n",
      "23000/50000: 1.4186\n",
      "24000/50000: 1.1795\n",
      "25000/50000: 1.0400\n",
      "26000/50000: 1.3162\n",
      "27000/50000: 1.2421\n",
      "28000/50000: 1.3436\n",
      "29000/50000: 1.1023\n",
      "30000/50000: 1.0866\n",
      "31000/50000: 0.9911\n",
      "32000/50000: 0.9014\n",
      "33000/50000: 1.2786\n",
      "34000/50000: 1.3163\n",
      "35000/50000: 1.1443\n",
      "36000/50000: 1.1494\n",
      "37000/50000: 1.3577\n",
      "38000/50000: 1.3535\n",
      "39000/50000: 1.2293\n",
      "40000/50000: 1.2344\n",
      "41000/50000: 1.3702\n",
      "42000/50000: 1.1673\n",
      "43000/50000: 1.1703\n",
      "44000/50000: 1.2521\n",
      "45000/50000: 0.9998\n",
      "46000/50000: 1.2913\n",
      "47000/50000: 0.8166\n",
      "48000/50000: 1.3681\n",
      "49000/50000: 1.0334\n",
      "1.076774001121521\n"
     ]
    }
   ],
   "execution_count": 81
  },
  {
   "metadata": {
    "ExecuteTime": {
     "end_time": "2025-01-22T09:37:41.064508Z",
     "start_time": "2025-01-22T09:37:40.971069Z"
    }
   },
   "cell_type": "code",
   "source": [
    "plt.figure(figsize=(20, 10))\n",
    "plt.imshow(h.abs() > 0.99, cmap='gray', interpolation='nearest')"
   ],
   "id": "2ae804f5f4680a6b",
   "outputs": [
    {
     "data": {
      "text/plain": [
       "<matplotlib.image.AxesImage at 0x19245361dd0>"
      ]
     },
     "execution_count": 82,
     "metadata": {},
     "output_type": "execute_result"
    },
    {
     "data": {
      "text/plain": [
       "<Figure size 2000x1000 with 1 Axes>"
      ],
      "image/png": "[encoded data removed]"
     },
     "metadata": {},
     "output_type": "display_data"
    }
   ],
   "execution_count": 82
  },
  {
   "metadata": {
    "ExecuteTime": {
     "end_time": "2025-01-22T09:37:49.999104Z",
     "start_time": "2025-01-22T09:37:49.839003Z"
    }
   },
   "cell_type": "code",
   "source": "plt.hist(h.view(-1).tolist(), 100);",
   "id": "f898672af4ed5092",
   "outputs": [
    {
     "data": {
      "text/plain": [
       "<Figure size 640x480 with 1 Axes>"
      ],
      "image/png": "[encoded data removed]"
     },
     "metadata": {},
     "output_type": "display_data"
    }
   ],
   "execution_count": 83
  },
  {
   "metadata": {
    "ExecuteTime": {
     "end_time": "2025-01-22T09:37:54.548849Z",
     "start_time": "2025-01-22T09:37:54.396694Z"
    }
   },
   "cell_type": "code",
   "source": "plt.hist(hpreact.view(-1).tolist(), 100);",
   "id": "ccd4139a631428e9",
   "outputs": [
    {
     "data": {
      "text/plain": [
       "<Figure size 640x480 with 1 Axes>"
      ],
      "image/png": "[encoded data removed]"
     },
     "metadata": {},
     "output_type": "display_data"
    }
   ],
   "execution_count": 84
  },
  {
   "metadata": {
    "ExecuteTime": {
     "end_time": "2025-01-22T09:38:09.947400Z",
     "start_time": "2025-01-22T09:38:09.524317Z"
    }
   },
   "cell_type": "code",
   "source": "plt.plot(losses)",
   "id": "b04be72da46a53ae",
   "outputs": [
    {
     "data": {
      "text/plain": [
       "[<matplotlib.lines.Line2D at 0x19245fc73d0>]"
      ]
     },
     "execution_count": 85,
     "metadata": {},
     "output_type": "execute_result"
    },
    {
     "data": {
      "text/plain": [
       "<Figure size 640x480 with 1 Axes>"
      ],
      "image/png": "[encoded data removed]"
     },
     "metadata": {},
     "output_type": "display_data"
    }
   ],
   "execution_count": 85
  },
  {
   "metadata": {
    "ExecuteTime": {
     "end_time": "2025-01-22T09:39:23.994080Z",
     "start_time": "2025-01-22T09:39:23.962551Z"
    }
   },
   "cell_type": "code",
   "source": [
    "@torch.no_grad() # this decorator disables gradient tracking\n",
    "def split_loss(split):\n",
    "  x,y = {\n",
    "    'train': (Xtr, Ytr),\n",
    "    'val': (Xdev, Ydev),\n",
    "    'test': (Xte, Yte),\n",
    "  }[split]\n",
    "  emb = C[x] # (N, block_size, n_embd)\n",
    "  embcat = emb.view(emb.shape[0], -1) # concat into (N, block_size * n_embd)\n",
    "  hpreact = embcat @ W1 # + b1\n",
    "  #hpreact = bngain * (hpreact - hpreact.mean(0, keepdim=True)) / hpreact.std(0, keepdim=True) + bnbias\n",
    "  hpreact = bngain * (hpreact - bnmean_running) / bnstd_running + bnbias\n",
    "  h = torch.tanh(hpreact) # (N, n_hidden)\n",
    "  logits = h @ W2 + b2 # (N, vocab_size)\n",
    "  loss = F.cross_entropy(logits, y)\n",
    "  print(split, loss.item())\n",
    "\n",
    "split_loss('train')\n",
    "split_loss('val')"
   ],
   "id": "d476cf886dba5d64",
   "outputs": [
    {
     "name": "stdout",
     "output_type": "stream",
     "text": [
      "train 1.1560412645339966\n",
      "val 1.7716666460037231\n"
     ]
    }
   ],
   "execution_count": 87
  },
  {
   "metadata": {
    "ExecuteTime": {
     "end_time": "2025-01-22T09:42:06.884336Z",
     "start_time": "2025-01-22T09:42:06.870101Z"
    }
   },
   "cell_type": "code",
   "source": [
    "num_of_names = 5\n",
    "# Sample from the model\n",
    "random_seed = int(time.time() * 1000) % (2**32)  # Ограничавамо на 32-битни опсег\n",
    "g = torch.Generator().manual_seed(random_seed)\n",
    "\n",
    "for _ in range(num_of_names):\n",
    "    out = []\n",
    "    context = [0] * block_size  # Initialize with all ...\n",
    "    while True:\n",
    "        emb = C[torch.tensor([context])]  # (1, block_size, d)\n",
    "        embcat = emb.view(emb.shape[0], -1) # concat into (N, block_size * n_embd)\n",
    "        hpreact = embcat @ W1 # + b1\n",
    "        #hpreact = bngain * (hpreact - hpreact.mean(0, keepdim=True)) / hpreact.std(0, keepdim=True) + bnbias\n",
    "        hpreact = bngain * (hpreact - bnmean_running) / bnstd_running + bnbias\n",
    "        h = torch.tanh(hpreact)\n",
    "        logits = h @ W2 + b2\n",
    "        probs = F.softmax(logits, dim=1)\n",
    "        ix = torch.multinomial(probs, num_samples=1, generator=g).item()\n",
    "        context = context[1:] + [ix]\n",
    "        if ix == 0:\n",
    "            break\n",
    "        out.append(ix)\n",
    "\n",
    "    # Rekonstruiši ime i promeni prvo slovo u veliko\n",
    "    name = ''.join(itos[i] for i in out)\n",
    "    name = name.capitalize()  # Pretvori prvo slovo u veliko\n",
    "\n",
    "    print(name)"
   ],
   "id": "cbb7445ef94daf6a",
   "outputs": [
    {
     "name": "stdout",
     "output_type": "stream",
     "text": [
      "Борета\n",
      "Рајимир\n",
      "Бурач\n",
      "Дражимир\n",
      "Цветомир\n"
     ]
    }
   ],
   "execution_count": 95
  },
  {
   "metadata": {},
   "cell_type": "code",
   "outputs": [],
   "execution_count": null,
   "source": "",
   "id": "9774c467d1b77ba3"
  }
 ],
 "metadata": {
  "kernelspec": {
   "display_name": "Python 3",
   "language": "python",
   "name": "python3"
  },
  "language_info": {
   "codemirror_mode": {
    "name": "ipython",
    "version": 2
   },
   "file_extension": ".py",
   "mimetype": "text/x-python",
   "name": "python",
   "nbconvert_exporter": "python",
   "pygments_lexer": "ipython2",
   "version": "2.7.6"
  }
 },
 "nbformat": 4,
 "nbformat_minor": 5
}
