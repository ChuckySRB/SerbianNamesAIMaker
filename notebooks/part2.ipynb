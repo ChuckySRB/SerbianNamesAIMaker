{
 "cells": [
  {
   "cell_type": "code",
   "id": "initial_id",
   "metadata": {
    "collapsed": true,
    "ExecuteTime": {
     "end_time": "2025-01-22T06:15:31.272923Z",
     "start_time": "2025-01-22T06:15:31.269575Z"
    }
   },
   "source": [
    "# Imports\n",
    "import torch\n",
    "import torch.nn.functional as F\n",
    "import matplotlib.pyplot as plt\n",
    "import random\n",
    "import time"
   ],
   "outputs": [],
   "execution_count": 144
  },
  {
   "metadata": {
    "ExecuteTime": {
     "end_time": "2025-01-21T10:11:24.535167Z",
     "start_time": "2025-01-21T10:11:24.531732Z"
    }
   },
   "cell_type": "code",
   "source": [
    "NAMES_MALE = \"../data/имена_српска_мушка.txt\"\n",
    "NAMES_FEMALE = \"../data/имена_српска_женска.txt\"\n",
    "\n",
    "RESULTS_MALE = \"../results/имена_српска_мушка_makemore_2003.txt\"\n",
    "RESULTS_FEMALE = \"../results/имена_српска_женска_makemore_2003.txt\"\n"
   ],
   "id": "d9fe434c39c56e0f",
   "outputs": [],
   "execution_count": 6
  },
  {
   "metadata": {
    "ExecuteTime": {
     "end_time": "2025-01-22T06:12:13.443180Z",
     "start_time": "2025-01-22T06:12:13.437187Z"
    }
   },
   "cell_type": "code",
   "source": [
    "# CONFIG VARIABLES\n",
    "NAMES_FILE = NAMES_MALE\n",
    "block_size = 3\n",
    "embedding_dimensions = 10\n",
    "neurons = 200\n",
    "batch_size = 64\n",
    "lr = 0.01"
   ],
   "id": "be8c78cb3d6881fc",
   "outputs": [],
   "execution_count": 138
  },
  {
   "metadata": {
    "ExecuteTime": {
     "end_time": "2025-01-21T16:17:34.879470Z",
     "start_time": "2025-01-21T16:17:34.873156Z"
    }
   },
   "cell_type": "code",
   "source": [
    "with open(NAMES_FILE, 'r', encoding='utf-8') as f:\n",
    "    words = f.read().splitlines()\n",
    "# Convert the first letter of each word to lowercase\n",
    "words = [word[0].lower() + word[1:] if word else word for word in words]\n",
    "words[:5]\n"
   ],
   "id": "9809872fabf48146",
   "outputs": [
    {
     "data": {
      "text/plain": [
       "['бадач', 'баја', 'бајо', 'бајан', 'бајаш']"
      ]
     },
     "execution_count": 60,
     "metadata": {},
     "output_type": "execute_result"
    }
   ],
   "execution_count": 60
  },
  {
   "metadata": {
    "ExecuteTime": {
     "end_time": "2025-01-21T16:17:36.302764Z",
     "start_time": "2025-01-21T16:17:36.298765Z"
    }
   },
   "cell_type": "code",
   "source": "len(words)",
   "id": "d634a4e3cc030095",
   "outputs": [
    {
     "data": {
      "text/plain": [
       "3646"
      ]
     },
     "execution_count": 61,
     "metadata": {},
     "output_type": "execute_result"
    }
   ],
   "execution_count": 61
  },
  {
   "metadata": {
    "ExecuteTime": {
     "end_time": "2025-01-21T16:17:37.720349Z",
     "start_time": "2025-01-21T16:17:37.715857Z"
    }
   },
   "cell_type": "code",
   "source": [
    "chars = sorted(list(set(''.join(words))))\n",
    "stoi = {s: i + 1 for i, s in enumerate(chars)}\n",
    "stoi['.'] = 0\n",
    "itos = {i: s for s, i in stoi.items()}\n",
    "print(stoi)\n"
   ],
   "id": "3e24c9835b692809",
   "outputs": [
    {
     "name": "stdout",
     "output_type": "stream",
     "text": [
      "{'а': 1, 'б': 2, 'в': 3, 'г': 4, 'д': 5, 'е': 6, 'ж': 7, 'з': 8, 'и': 9, 'к': 10, 'л': 11, 'м': 12, 'н': 13, 'о': 14, 'п': 15, 'р': 16, 'с': 17, 'т': 18, 'у': 19, 'х': 20, 'ц': 21, 'ч': 22, 'ш': 23, 'ђ': 24, 'ј': 25, 'љ': 26, 'њ': 27, 'ћ': 28, '.': 0}\n"
     ]
    }
   ],
   "execution_count": 62
  },
  {
   "metadata": {},
   "cell_type": "markdown",
   "source": [
    "## Building the Dataset:\n",
    "\n",
    "```X - input of the Neural Network, cotext window of the size: block_size,  Context that is used as an input, if block_size 3, input will be 3 words and guess the third one```\n",
    "\n",
    "```Y - Next word is the label (it is what model is needs to guess)```"
   ],
   "id": "fae7049e9f1304b7"
  },
  {
   "metadata": {
    "ExecuteTime": {
     "end_time": "2025-01-21T16:18:04.492582Z",
     "start_time": "2025-01-21T16:18:04.488741Z"
    }
   },
   "cell_type": "code",
   "source": [
    "# Building the Dataset\n",
    "def build_dataset(words, block_size, stoi):\n",
    "    X, Y = [], []\n",
    "    for w in words:\n",
    "        context = [0] * block_size\n",
    "        for ch in w + '.':\n",
    "            ix = stoi[ch]\n",
    "            X.append(context) # Context that is used as an input, if block_size 3, input will be 3 words and guess the third one\n",
    "            Y.append(ix)  # Next word is the label (it is what model is needs to guess)\n",
    "            context = context[1:] + [ix]  # crop and append\n",
    "    X = torch.tensor(X)\n",
    "    Y = torch.tensor(Y)\n",
    "    return X, Y"
   ],
   "id": "80d94a72888836d2",
   "outputs": [],
   "execution_count": 63
  },
  {
   "metadata": {
    "ExecuteTime": {
     "end_time": "2025-01-21T16:18:04.816172Z",
     "start_time": "2025-01-21T16:18:04.785966Z"
    }
   },
   "cell_type": "code",
   "source": [
    "# Split the data\n",
    "random.seed(42)\n",
    "random.shuffle(words)\n",
    "n1 = int(0.8 * len(words))\n",
    "n2 = int(0.9 * len(words))\n",
    "\n",
    "Xtr, Ytr = build_dataset(words[:n1], block_size, stoi=stoi)\n",
    "Xdev, Ydev = build_dataset(words[n1:n2], block_size, stoi=stoi)\n",
    "Xte, Yte = build_dataset(words[n2:], block_size, stoi=stoi)\n",
    "\n",
    "len(Xtr), len(Ytr), len(Xdev), len(Ydev), len(Xte), len(Yte)"
   ],
   "id": "d0e6363a941b00f1",
   "outputs": [
    {
     "data": {
      "text/plain": [
       "(21777, 21777, 2705, 2705, 2721, 2721)"
      ]
     },
     "execution_count": 64,
     "metadata": {},
     "output_type": "execute_result"
    }
   ],
   "execution_count": 64
  },
  {
   "metadata": {
    "ExecuteTime": {
     "end_time": "2025-01-21T16:19:10.138821Z",
     "start_time": "2025-01-21T16:19:10.133407Z"
    }
   },
   "cell_type": "code",
   "source": [
    "num_of_letters = len(stoi.keys()) # Number of tokens (in this case number of letters in Azbuka(30) + Special Char '.' = total max (31)\n",
    "# INIT PARAMS\n",
    "C = torch.randn((num_of_letters, embedding_dimensions))\n",
    "W1 = torch.randn((block_size * embedding_dimensions, neurons))\n",
    "b1 = torch.randn(neurons)\n",
    "W2 = torch.randn((neurons, num_of_letters))\n",
    "b2 = torch.randn(num_of_letters)\n",
    "parameters = [C, W1, b1, W2, b2]\n",
    "for p in parameters:\n",
    "    p.requires_grad = True\n",
    "\n",
    "print(f\"Number of tokens: {num_of_letters}\")\n"
   ],
   "id": "f2842eb2a5798bfb",
   "outputs": [
    {
     "name": "stdout",
     "output_type": "stream",
     "text": [
      "Number of tokens: 29\n"
     ]
    }
   ],
   "execution_count": 69
  },
  {
   "metadata": {
    "ExecuteTime": {
     "end_time": "2025-01-21T16:27:01.164908Z",
     "start_time": "2025-01-21T16:27:01.161626Z"
    }
   },
   "cell_type": "code",
   "source": "C.shape",
   "id": "135d1153628756b9",
   "outputs": [
    {
     "data": {
      "text/plain": [
       "torch.Size([29, 10])"
      ]
     },
     "execution_count": 86,
     "metadata": {},
     "output_type": "execute_result"
    }
   ],
   "execution_count": 86
  },
  {
   "metadata": {
    "ExecuteTime": {
     "end_time": "2025-01-21T16:28:56.448298Z",
     "start_time": "2025-01-21T16:28:56.444298Z"
    }
   },
   "cell_type": "code",
   "source": "W1.shape, b1.shape, W2.shape, b2.shape",
   "id": "d76e0ba53172cf4d",
   "outputs": [
    {
     "data": {
      "text/plain": [
       "(torch.Size([30, 200]),\n",
       " torch.Size([200]),\n",
       " torch.Size([200, 29]),\n",
       " torch.Size([29]))"
      ]
     },
     "execution_count": 89,
     "metadata": {},
     "output_type": "execute_result"
    }
   ],
   "execution_count": 89
  },
  {
   "metadata": {
    "ExecuteTime": {
     "end_time": "2025-01-22T05:34:02.346584Z",
     "start_time": "2025-01-22T05:34:02.342126Z"
    }
   },
   "cell_type": "code",
   "source": "X, Y = Xtr, Ytr\n",
   "id": "a3563f3fc410ed9a",
   "outputs": [],
   "execution_count": 112
  },
  {
   "metadata": {
    "ExecuteTime": {
     "end_time": "2025-01-22T06:14:04.651123Z",
     "start_time": "2025-01-22T06:12:45.306999Z"
    }
   },
   "cell_type": "code",
   "source": [
    "for _ in range(40000):\n",
    "    # Random MiniBatch\n",
    "    ix = torch.randint(0, Xtr.shape[0], (batch_size,))\n",
    "\n",
    "\n",
    "    # Forward Pass\n",
    "    emb = C[X[ix]]  # (N, block_size(3), vectors_representation(10))\n",
    "    h = torch.tanh(emb.view(-1, block_size * embedding_dimensions) @ W1 + b1)  # (N, 200)\n",
    "    logits = h @ W2 + b2  # (N, 29)\n",
    "    loss = F.cross_entropy(logits, Y[ix])\n",
    "\n",
    "    # Backwards Pass\n",
    "    for p in parameters:\n",
    "        p.grad = None\n",
    "    loss.backward()\n",
    "\n",
    "    # Update\n",
    "    for p in parameters:\n",
    "        p.data += -lr * p.grad\n",
    "\n",
    "print(loss.item())"
   ],
   "id": "e12aaa4da0fcdf28",
   "outputs": [
    {
     "name": "stdout",
     "output_type": "stream",
     "text": [
      "1.4004154205322266\n"
     ]
    }
   ],
   "execution_count": 141
  },
  {
   "metadata": {
    "ExecuteTime": {
     "end_time": "2025-01-22T04:49:54.998028Z",
     "start_time": "2025-01-22T04:49:54.993557Z"
    }
   },
   "cell_type": "code",
   "source": [
    "# Manual Loss\n",
    "\n",
    "# counts = logits.exp()\n",
    "# probs = counts / counts.sum(1, keepdim=True)\n",
    "# loss_manual = -probs[torch.arange(len(X)), Y].log().mean()"
   ],
   "id": "d476cf886dba5d64",
   "outputs": [
    {
     "data": {
      "text/plain": [
       "(torch.Size([21777, 29]), torch.Size([21777]))"
      ]
     },
     "execution_count": 104,
     "metadata": {},
     "output_type": "execute_result"
    }
   ],
   "execution_count": 104
  },
  {
   "metadata": {
    "ExecuteTime": {
     "end_time": "2025-01-22T06:14:55.086045Z",
     "start_time": "2025-01-22T06:14:55.060928Z"
    }
   },
   "cell_type": "code",
   "source": [
    "emb = C[X]  # (N, block_size(3), vectors_representation(10))\n",
    "h = torch.tanh(emb.view(-1, block_size * embedding_dimensions) @ W1 + b1)  # (N, 200)\n",
    "logits = h @ W2 + b2  # (N, 29)\n",
    "loss = F.cross_entropy(logits, Y)\n",
    "loss\n"
   ],
   "id": "d9be2e8fd64ccd8",
   "outputs": [
    {
     "data": {
      "text/plain": [
       "tensor(1.3373, grad_fn=<NllLossBackward0>)"
      ]
     },
     "execution_count": 142,
     "metadata": {},
     "output_type": "execute_result"
    }
   ],
   "execution_count": 142
  },
  {
   "metadata": {
    "ExecuteTime": {
     "end_time": "2025-01-22T06:18:51.807947Z",
     "start_time": "2025-01-22T06:18:51.790093Z"
    }
   },
   "cell_type": "code",
   "source": [
    "num_of_names = 5\n",
    "# Sample from the model\n",
    "random_seed = int(time.time() * 1000) % (2**32)  # Ограничавамо на 32-битни опсег\n",
    "g = torch.Generator().manual_seed(random_seed)\n",
    "\n",
    "for _ in range(num_of_names):\n",
    "    out = []\n",
    "    context = [0] * block_size  # Initialize with all ...\n",
    "    while True:\n",
    "        emb = C[torch.tensor([context])]  # (1, block_size, d)\n",
    "        h = torch.tanh(emb.view(1, -1) @ W1 + b1)\n",
    "        logits = h @ W2 + b2\n",
    "        probs = F.softmax(logits, dim=1)\n",
    "        ix = torch.multinomial(probs, num_samples=1, generator=g).item()\n",
    "        context = context[1:] + [ix]\n",
    "        if ix == 0:\n",
    "            break\n",
    "        out.append(ix)\n",
    "\n",
    "    # Rekonstruiši ime i promeni prvo slovo u veliko\n",
    "    name = ''.join(itos[i] for i in out)\n",
    "    name = name.capitalize()  # Pretvori prvo slovo u veliko\n",
    "\n",
    "    print(name)"
   ],
   "id": "cbb7445ef94daf6a",
   "outputs": [
    {
     "name": "stdout",
     "output_type": "stream",
     "text": [
      "Југочај\n",
      "Слован\n",
      "Веселисав\n",
      "Лета\n",
      "Рујко\n"
     ]
    }
   ],
   "execution_count": 159
  },
  {
   "metadata": {},
   "cell_type": "code",
   "outputs": [],
   "execution_count": null,
   "source": "",
   "id": "9774c467d1b77ba3"
  }
 ],
 "metadata": {
  "kernelspec": {
   "display_name": "Python 3",
   "language": "python",
   "name": "python3"
  },
  "language_info": {
   "codemirror_mode": {
    "name": "ipython",
    "version": 2
   },
   "file_extension": ".py",
   "mimetype": "text/x-python",
   "name": "python",
   "nbconvert_exporter": "python",
   "pygments_lexer": "ipython2",
   "version": "2.7.6"
  }
 },
 "nbformat": 4,
 "nbformat_minor": 5
}
